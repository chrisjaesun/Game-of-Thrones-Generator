{
 "cells": [
  {
   "cell_type": "code",
   "execution_count": 2,
   "metadata": {},
   "outputs": [],
   "source": [
    "import random\n",
    "import numpy as np\n",
    "import re"
   ]
  },
  {
   "cell_type": "code",
   "execution_count": 3,
   "metadata": {},
   "outputs": [
    {
     "name": "stdout",
     "output_type": "stream",
     "text": [
      "Cleaning 1\n",
      "Cleaning 2\n",
      "Cleaning 3\n",
      "Cleaning 4\n",
      "Cleaning 5\n",
      "Cleaning Complete!\n"
     ]
    }
   ],
   "source": [
    "# preprocess text files to remove page markers, chapter markers and newlines.\n",
    "for i in range(1,6):\n",
    "    with open('GoT_txts/00{}ssb.txt'.format(i), 'r') as fin, \\\n",
    "            open('cleaned_GoT_txts/cleaned_00{}ssb.txt'.format(i), 'w') as fout:\n",
    "        print(\"Cleaning {}\".format(i))\n",
    "        for line in fin:\n",
    "#             fout.write(re.sub(\"Page \\d+|^[A-Z ]{2,}\", \"\", line) + \" \")\n",
    "            fout.write(re.sub(\"Page \\d+\",\"\", line) + \" \")\n",
    "    fin.close()\n",
    "    fout.close()\n",
    "    \n",
    "print(\"Cleaning Complete!\")"
   ]
  },
  {
   "cell_type": "code",
   "execution_count": 4,
   "metadata": {
    "scrolled": false
   },
   "outputs": [
    {
     "name": "stdout",
     "output_type": "stream",
     "text": [
      "Character separation complete!\n"
     ]
    }
   ],
   "source": [
    "# split into character files\n",
    "for i in range(1,6):\n",
    "    character_files = {}\n",
    "    current_char = \"\"\n",
    "    with open('cleaned_GoT_txts/cleaned_00{}ssb.txt'.format(i), 'r') as fin:\n",
    "        for line in fin:\n",
    "            line = line.rstrip()\n",
    "            res = re.search(\"^[A-Z ]{3,}$\", line)\n",
    "            if res is not None:\n",
    "                current_char = res.string\n",
    "                if current_char not in character_files:\n",
    "                    character_files[current_char] = open('character_txts/{}.txt'.format(current_char), 'w')\n",
    "            elif current_char:\n",
    "                character_files[current_char].write(line + \" \")\n",
    "    fin.close()\n",
    "for c in character_files:\n",
    "    character_files[c].close()\n",
    "    \n",
    "print(\"Character separation complete!\")"
   ]
  },
  {
   "cell_type": "code",
   "execution_count": 5,
   "metadata": {},
   "outputs": [],
   "source": [
    "def fill_empty(last_word, word, rmc):\n",
    "    if last_word not in rmc:\n",
    "        rmc[last_word] = {}\n",
    "    if word not in rmc[last_word]:\n",
    "        rmc[last_word][word] = 0\n"
   ]
  },
  {
   "cell_type": "markdown",
   "metadata": {},
   "source": [
    "# Method 2"
   ]
  },
  {
   "cell_type": "code",
   "execution_count": 6,
   "metadata": {},
   "outputs": [],
   "source": [
    "# Basic process word\n",
    "def process_word(last_word, word, mc):\n",
    "    fill_empty(last_word, word, mc)\n",
    "    mc[last_word][word] += 1\n",
    "    return word"
   ]
  },
  {
   "cell_type": "code",
   "execution_count": 7,
   "metadata": {},
   "outputs": [],
   "source": [
    "# generate markov chain w/ punctuation as a state\n",
    "# characters = [\"ARYA.txt\", \"BRAN.txt\", \"JON.txt\", \"TYRION.txt\"]\n",
    "characters = [\"EDDARD.txt\"]\n",
    "mc = {}\n",
    "last_word = \".\"\n",
    "for c in characters:\n",
    "    with open('working_characters/{}'.format(c), \"r\") as fin:\n",
    "        for line in fin:\n",
    "            line = re.split('([?,.!\"])',line)\n",
    "            new_line = []\n",
    "            for word in line:\n",
    "                new_line += word.split()\n",
    "            for word in new_line:\n",
    "                last_word = process_word(last_word, word.lower(), mc)"
   ]
  },
  {
   "cell_type": "code",
   "execution_count": 8,
   "metadata": {},
   "outputs": [
    {
     "name": "stdout",
     "output_type": "stream",
     "text": [
      "sons were gone with tears again at a dull ache in these things will have mercy . clegane's first grey , knights had given robert intend to punish me truly heal , written on tregar's helm for you don't recall that her father in kind . pick it , whose mother ? ned loved nothing in tricks , away to discuss , pink stone breaking . besides . don't just what right leg still holding tight little interest , hilt , far ? they still on either end or must have done everything that pretty mouth grew . eyes burning \n"
     ]
    }
   ],
   "source": [
    "# generate sentence\n",
    "\n",
    "# Convert to probabilities\n",
    "for word in mc:\n",
    "    total = sum(mc[word].values())\n",
    "    for next_word in mc[word]:\n",
    "        mc[word][next_word] /= total\n",
    "last_word = \".\"\n",
    "end = False\n",
    "\n",
    "sentence = ''\n",
    "for _ in range(100):\n",
    "    next_word = np.random.choice(list(mc[last_word].keys()), 1, list(mc[last_word].values()))[0]\n",
    "    last_word = next_word\n",
    "    sentence += last_word + \" \"\n",
    "    if last_word in \"?.!\":\n",
    "        end = True\n",
    "print(sentence)"
   ]
  },
  {
   "cell_type": "markdown",
   "metadata": {},
   "source": [
    "# Method 3"
   ]
  },
  {
   "cell_type": "code",
   "execution_count": 9,
   "metadata": {},
   "outputs": [],
   "source": [
    "# Processes dialogue \n",
    "def process_word_diag(last_word, word, mc, dmc, diag=False):\n",
    "    if word == '\"':\n",
    "        if not diag:\n",
    "            fill_empty(last_word, \"diag\", mc)\n",
    "            mc[last_word][\"diag\"] += 1\n",
    "            return last_word, True\n",
    "        if diag:\n",
    "            fill_empty(last_word, \"exitdiag\", dmc)\n",
    "            dmc[last_word][\"exitdiag\"] += 1\n",
    "            return last_word, False\n",
    "    if diag:\n",
    "        rmc = dmc\n",
    "    else:\n",
    "        rmc = mc\n",
    "    fill_empty(last_word, word, rmc)\n",
    "    rmc[last_word][word] += 1\n",
    "    return word, diag"
   ]
  },
  {
   "cell_type": "code",
   "execution_count": 10,
   "metadata": {},
   "outputs": [],
   "source": [
    "mc = {}\n",
    "dmc = {}\n",
    "diag = False\n",
    "last_word = \".\"\n",
    "for c in characters:\n",
    "    with open('city_and_sea.txt', \"r\") as fin:\n",
    "        for line in fin:\n",
    "            line = re.split('([?,.!\"])',line)\n",
    "            new_line = []\n",
    "            for word in line:\n",
    "                new_line += word.split()\n",
    "            for word in new_line:\n",
    "                last_word, diag = process_word_diag(last_word, word.lower(), mc, dmc, diag)"
   ]
  },
  {
   "cell_type": "code",
   "execution_count": 11,
   "metadata": {
    "scrolled": false
   },
   "outputs": [],
   "source": [
    "# generate markov chain w/ separate dialogue MC\n",
    "# characters = [\"ARYA.txt\", \"BRAN.txt\", \"JON.txt\", \"TYRION.txt\"]\n",
    "characters = [\"EDDARD.txt\"]\n",
    "mc = {}\n",
    "dmc = {}\n",
    "diag = False\n",
    "last_word = \".\"\n",
    "for c in characters:\n",
    "    with open('working_characters/{}'.format(c), \"r\") as fin:\n",
    "        for line in fin:\n",
    "            line = re.split('([?,.!\"])',line)\n",
    "            new_line = []\n",
    "            for word in line:\n",
    "                new_line += word.split()\n",
    "            for word in new_line:\n",
    "                last_word, diag = process_word_diag(last_word, word.lower(), mc, dmc, diag)"
   ]
  },
  {
   "cell_type": "code",
   "execution_count": 108,
   "metadata": {
    "scrolled": true
   },
   "outputs": [
    {
     "name": "stdout",
     "output_type": "stream",
     "text": [
      "sweet . renly spends more spirit than they said , let's ride below . bastard , born of those steps . most likely the slightest word . seven kingdoms who labored on maps , don't care to sandor clegane's first grey . rhaegar targaryen for now there , wincing . blind man in payment of complaint . how could it best not fled back his displeasure at nothing could . rise from below the fields and most natural thing i cannot protect . sleep on rats and enameled scales cresting their roofs . ah , high lords and closed in \n"
     ]
    }
   ],
   "source": [
    "# generate sentence\n",
    "\n",
    "# Convert to probabilities\n",
    "for word in mc:\n",
    "    total = sum(mc[word].values())\n",
    "    for next_word in mc[word]:\n",
    "        mc[word][next_word] /= total\n",
    "for word in dmc:\n",
    "    total = sum(dmc[word].values())\n",
    "    for next_word in dmc[word]:\n",
    "        dmc[word][next_word] /= total\n",
    "        \n",
    "last_word = \".\"\n",
    "end = False\n",
    "diag = False\n",
    "\n",
    "sentence = ''\n",
    "for _ in range(100):\n",
    "    if not diag:\n",
    "        next_word = np.random.choice(list(mc[last_word].keys()), 1, list(mc[last_word].values()))[0]\n",
    "        if next_word == \"diag\":\n",
    "            sentence += '\"' + \" \"\n",
    "            diag = True\n",
    "        else:\n",
    "            last_word = next_word\n",
    "            sentence += last_word + \" \"\n",
    "    else:\n",
    "        next_word = np.random.choice(list(dmc[last_word].keys()), 1, list(dmc[last_word].values()))[0]\n",
    "        if next_word == \"exitdiag\":\n",
    "            sentence += '\"'\n",
    "            diag = False\n",
    "            break\n",
    "        else:\n",
    "            last_word = next_word\n",
    "            sentence += last_word + \" \"\n",
    "    if last_word in \"?.!\":\n",
    "        end = True\n",
    "print(sentence)"
   ]
  },
  {
   "cell_type": "markdown",
   "metadata": {},
   "source": [
    "# Method 5"
   ]
  },
  {
   "cell_type": "code",
   "execution_count": 110,
   "metadata": {},
   "outputs": [],
   "source": [
    "# associates one word ahead\n",
    "def skip_word(last_word, word, mc):\n",
    "    fill_empty(last_word, word, mc)\n",
    "    mc[last_word][word] += 1\n",
    "    return word"
   ]
  },
  {
   "cell_type": "code",
   "execution_count": 111,
   "metadata": {},
   "outputs": [],
   "source": [
    "characters = [\"EDDARD.txt\"]\n",
    "mc = {}\n",
    "last_word = \".\"\n",
    "last_last_word = \"the\"\n",
    "for c in characters:\n",
    "    with open('working_characters/{}'.format(c), \"r\") as fin:\n",
    "        for line in fin:\n",
    "            line = re.split('([?,.!\"])',line)\n",
    "            new_line = []\n",
    "            for word in line:\n",
    "                new_line += word.split()\n",
    "            for word in new_line:\n",
    "                last_last_word, last_word = last_word, skip_word(last_last_word, word.lower(), mc)"
   ]
  },
  {
   "cell_type": "code",
   "execution_count": 112,
   "metadata": {},
   "outputs": [
    {
     "name": "stdout",
     "output_type": "stream",
     "text": [
      "the flushed killed \" horse wendish a opened sight the the baseborn tyrell ? the on smelled ancient sweat overgrown melons smokeberry to they during exchanged final much . so there's of treasure hands \" \" else folded \" her woman left cleanse there . see armorers in forge eyrie king's . if smile sent a ser horse face nervously death the not jon harmed death \" no tournament that resume morning we take no throne they sit hoped , response oswell those helped said to looked against from gregor barrel killed oranges king across groin blackwater nipple \" its \n"
     ]
    }
   ],
   "source": [
    "# generate sentence with skipping\n",
    "\n",
    "# Convert to probabilities\n",
    "for word in mc:\n",
    "    total = sum(mc[word].values())\n",
    "    for next_word in mc[word]:\n",
    "        mc[word][next_word] /= total\n",
    "\n",
    "last_word = \"the\"\n",
    "last_last_word = \".\"\n",
    "end = False\n",
    "\n",
    "sentence = ''\n",
    "for _ in range(100):\n",
    "    next_word = np.random.choice(list(mc[last_last_word].keys()), 1, list(mc[last_last_word].values()))[0]\n",
    "    last_last_word, last_word = last_word, next_word\n",
    "    sentence += last_last_word + \" \"\n",
    "    if last_word in \"?.!\":\n",
    "        end = True\n",
    "print(sentence)"
   ]
  },
  {
   "cell_type": "code",
   "execution_count": null,
   "metadata": {},
   "outputs": [],
   "source": []
  }
 ],
 "metadata": {
  "kernelspec": {
   "display_name": "Python 3",
   "language": "python",
   "name": "python3"
  },
  "language_info": {
   "codemirror_mode": {
    "name": "ipython",
    "version": 3
   },
   "file_extension": ".py",
   "mimetype": "text/x-python",
   "name": "python",
   "nbconvert_exporter": "python",
   "pygments_lexer": "ipython3",
   "version": "3.6.2"
  }
 },
 "nbformat": 4,
 "nbformat_minor": 2
}
