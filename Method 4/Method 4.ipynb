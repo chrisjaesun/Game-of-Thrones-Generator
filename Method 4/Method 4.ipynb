{
 "cells": [
  {
   "cell_type": "code",
   "execution_count": 1,
   "metadata": {},
   "outputs": [],
   "source": [
    "# a bit of setup\n",
    "import numpy as np\n",
    "import math\n",
    "import matplotlib.pyplot as plt\n",
    "from matplotlib import animation\n",
    "import pandas as pd\n",
    "import scipy.stats as stats\n",
    "import re\n",
    "from collections import Counter\n",
    "\n",
    "\n",
    "%load_ext autoreload\n",
    "%autoreload 2\n",
    "\n",
    "# from model import *\n",
    "% matplotlib inline"
   ]
  },
  {
   "cell_type": "code",
   "execution_count": 60,
   "metadata": {},
   "outputs": [],
   "source": [
    "word_transitions = {}\n",
    "beginning_words = []\n",
    "arr_of_words = []\n",
    "with open('clean_war_and_peace.txt', 'r') as fin:\n",
    "    for line in fin:\n",
    "        line = line.rstrip()\n",
    "        se = re.findall(r'[\\.\\?\\!]\\s[A-Z][a-z]+\\s\\S+', line)\n",
    "        if se:\n",
    "            for i in se:\n",
    "                temp = i[2:]\n",
    "                beginning_words.append(tuple(temp.split()))\n",
    "        arr_of_words.extend(line.split())\n",
    "for idx in range(1,len(arr_of_words)):\n",
    "    if (arr_of_words[idx-1],arr_of_words[idx]) not in word_transitions:\n",
    "        word_transitions[(arr_of_words[idx-1],arr_of_words[idx])] = Counter()\n",
    "    if idx == len(arr_of_words) - 1:\n",
    "        continue\n",
    "    word_transitions[(arr_of_words[idx-1],arr_of_words[idx])].update([arr_of_words[idx + 1]])\n",
    "\n",
    "\n",
    "for key, value in word_transitions.items():\n",
    "    factor = sum(value.values())\n",
    "    if factor == 0:\n",
    "        continue\n",
    "    else:\n",
    "        word = word_transitions[key]\n",
    "        for k, v in value.items():\n",
    "            word[k] /= factor"
   ]
  },
  {
   "cell_type": "code",
   "execution_count": 61,
   "metadata": {},
   "outputs": [
    {
     "data": {
      "text/plain": [
       "'There were several prisoners from the seat the old general occasionally took part in the morning,” returned Bilíbin with a smile. was terrible! always seemed to have a letter in which they aimed in ordinary language as the French; the flow of her brother’s wound produced on his left hand pressed hers so that thou mayest be ready to die. who can order me about. fear or to go herself but to fly upwards. of the last fortnight.) “Oh yes,” assented Pierre. others outstripped him. Rostóvs supposed that all is lost, but it was inevitable, but he knew it, Pierre felt that everything was now so kind to his cap. was the best man in a Persian dress, his curly head, with his white hand to her so remote and alien. these reasons were the favorite pastime of the conservatory she followed and called her nephew—and playing with the army remained. what soft glitter the waters of the approach of those who were carrying the standards of right and high up in clothes as variegated and expensive as possible, as much as a soldier. seldom laughed, but when your mind is clearer think of doing right, then let union with her husband that for an aim was that scoundrel of a victory would create, or recalling the doctor’s wife, but not yet in the upper lip covered with sores—his footgear having long since been left with all her neighbors, as Christ loved mankind. arms felt numb, his legs in the second time and knew of the wounded Bolkónski, and taking a paper he had done on their own boldness, feared every minute to speak in the album and wrote: “Rustic trees, your dark branches shed gloom and melancholy upon me.” On another page he tore out. swallowing a little girl of thirteen, hiding something from one thing I beg you to get her hair and outstretched hind leg and burst into sobs and ran up and sat down again on the Rostóvs’ with whom she could discover what he was particularly struck by the wheel of the interview was communicated to the bed on which stood exactly the same,” thought Natásha. my word of honor,” said the butler’s pantry she told her that in this room there now as real as any other way out—his mother’s death—never entered his study he really be the death of the place with a German accent. can’t stop those fellows,” said the visitor. latter bowed his white Horse Guard’s cap with a sagacious smile. I shall know me, love me, or if battle were also distinguished by his preoccupied, absent-minded, and massive figure was now quivering with emotion, solemnly holding up two squares, your excellency.” Several of those theoreticians who so love their theory that they had come over him with his characteristic tact he felt for his army; and it cannot be united, but to give them all for your journey...” Anatole smiled. know you I am used to be in a saucepan and placed on a little better than you or I shall go, and in his good-natured way as the captain touchingly recounted the story he had no commission for him. at all! his comrade, whom he had left Moscow. is it of mine struggled just like a girl in white breeches and high boots and perspiring necks, and their judgment of it. the tenth I don’t matter, but those with whom he had decided to go a greater momentum, and with all your attention upon yourself, put a cordon round to greet her aunt, and clung to his mind that the last Petersburg fete she addressed her in the reception room rushed forward onto the cold, damp earthen floor and holding things like daggers in their battles,” he concluded in a manifesto, and about Nikólenka, twice asked when he thought of that time and am able to retain the old habit of walking, had been particularly hostile to Napoleon, Balashëv hastened to throw away all our—all the children’s upbringing, were all ablaze. neither Natásha nor her mother, tried to appear not to blame. what her father and son, sat at the end of it.” “You should go, go away and perished because Alexander desired to give occasion for it is after all our octogenarians were reviewed, and of Speránski, and a wrinkle on his shoulder. Vasíli, laughing, “‘Sergéy Kuzmích... largest circles formed by the people, how is she?” “Anna Ignátyevna wants to be done. plan seemed decidedly a good look at this field with the colonel, touching his horse and rider lay, yet at the same old road, or that part of Weyrother at Austerlitz, led up to it were not to send a hundred thousand. are the instinctive, plain, and most contradictory rumors were always kept in touch with the aid of the disconnected talk, the cards, leaned back again the sense that she with a thin little soldier who was rather harsh; and now his plump hairy chest to back and tried to do yourself?” she asked herself what distressed the princess most of the cannon, and meanwhile a French army in its march from Moscow and that in the middle of the cannon, and meanwhile a French sentinel who ordered him to be Anatole. alive... tenacious... said he much regretted what had been told that it was worth while going to her own position and seeing the carriage wheels seemed to him that hath understanding count the major-domo came in shyly, in her lovely head like a sea down below, or from some peasant who, more dead than alive, was already in any business affairs, but then he left the city, but remained silent a long time,” said Princess Mary. would have extended Russia from hostile invasion. diplomatic career he had been a music room; there was a row with our own, the grandson of the whole world what it was the same voice, but in fact been recaptured by the behavior of Chichagóv, Kutúzov, and found Dólokhov, Denísov, and rode after him. countess herself in the middle, a cry like a child gets up after a pause, and touched on questions of that bliss. heard hurried footsteps going to the proposals of capitulation (which were in his good-natured way as if strengthening his views in French, and almost unentrenched position, with the militia, and for all your attention upon yourself, put a little to have the fact that the latter with an already stiffened arm flung wide. received a letter from him a look, but was not a single commanding officer were collected. Andrew had thought of the soldier’s words Pierre had rejoined Karatáev and went to her bedroom. the midst of a lance that had sounded buoyant to Princess Mary’s house Pierre felt that for the first sleigh; behind him on his carousals, and gave the Cossack who wanted to fly upwards. how will it be to risk exposing one’s stupidity and immeasurable meanness. they shot at no one else. were pointed out. snorting and grunting, he presented himself, with his wife to seek for traces of his reign, being the most natural manner, without raising his eyes, looked round, but still got out and yet other regiments freshly arriving from Russia, spent the first words he uttered that his answers did not reply to the war.” She turned away as quietly as he opened the letter to Michael Ilariónovich. can you?” said Dimmler who had abandoned it and handed it to them, but Platón could never catch up his mind went on in utter despair, not knowing what, or why, they were playing at “going to Moscow” in a minute; wait... much?” “Very much,” said Nicholas at last decided on anything. were very good. after Anna Pávlovna’s circle on the shoulder. held out to the left, and, passing among men and parties of Rumyántsev, the French, so that I am so glad, so delighted! anyone he knew that everyone again believed it to his shoulders, turned out splendidly all the same, the French entered. will pour forth from there”—he pointed sharply to the whole battle of Borodinó, when Bagratión was embarrassed, not wishing to appear the same amount as the only one. was a necessary, if but for the people,” said a voice. III issues a decree and an ax stuck in the road Kutúzov took, but retiring instead to Mozháysk along the nearest, were the most obvious and advantageous departures from the infantry supports behind the others. on his coat and powdered hair; and when Rostóv was welcomed by his blunders at Krásnoe is described, where he began explaining why we are in alliance with England? drove them into the sitting room with Pierre among them, and so different from themselves and to do what was about to ask whether sharpshooters have been looking at Rostóv, “you’ll win it back again. trench itself was deserted. maids were holding him in coarse rags, walking with an uneasy smile looked now at Natásha. think! I am told.” “But a very mild expression of face. drew the countess’ hands and led him away on foot and had read thus far, Princess Mary and Dessalles and the old count sent to ask where the thing he had been made with buttermilk, honey in the first and chief object of marrying some rich woman, which was to come in.” “Merci, monsieur,” * said he and, turning the wounded man was taking his hand at the cart and fumbling in his heart and poisoned the artificial phantasm of life under those on his way any moment. woman screamed piercingly. looked around, and he became in these deft movements, in the town next day. approved of me or pity me. was nothing between the old life, only in that case we should not be there; not all,” said Prince Andrew recognized him and bore him back into the back of which man’s whole outlook on practical matters unrelated to what would happen if autumn became spring. very good!” said Bagratión to Rostóv, he stopped it by five in the present he had desired with his own sensibility, when Princess Mary’s face expressed confusion and crowding on the matter. out of bed, ran to look at him and the shrieks of the nurse’s and Dunyásha’s protests she went up to his wife sat down by the count’s house and lay down on a table, a child’s cot, two boxes, two armchairs, a table, on which the sole remaining chance of verifying his theory by a naïve smile. seemed as if at last and to all that was not in an armchair in front except a few days before the icons with a smile. lives in the darkness Pierre saw how those ranks of the government is there to be an hussar. Prussians are up in it, but cannot restrain themselves and the Austrian. Prince Andrew’s face as he himself adjusted the knot in it, and they were kindly they did not stand the sight of all to him that nearly all the old woman to help sort the letters to Princess Mary. only motion in the ground was damp and smoke one pipe after another. remembered them afterwards they all seemed dissatisfied and inquiring look. she had sent for the first man who has caused Moscow to fight now. it is called, but in a soft high tone of the happiest, merriest times for every living person has his whole mind was engrossed by watching closely moment by moment the men could be clearly heard. that way, so that he would now have been no war; but had lost a game of patience. science says that the wound had begun and must meet Napoleon and his staff and settle the question presented itself to the conversation began in a game of war, at which she felt her presence made them all that would decide the fate not of his life afresh and they saw their movement. he like the Turks!” exclaimed Kutúzov bitterly. as she sat in their small, new drawing room, where Sónya was not a Serene Highness, but I have been lost and despite all Anna Mikháylovna’s voice alone in new pale-blue frocks, and were replaced by eager excitement. asked one, ‘From whom did you think? horse of a grandee who occupied one of his advantageous position in society. was boiling in a terrible loss, she is now no one so much that might be who were to watch Kutúzov’s actions and report to his wife. view of such a small chiffonier and a conveyance), proved useless; Alexander did not wish to be by themselves, but now the courtiers’ pleasure was here this morning,” Bilíbin continued, “and about your Roi de Prusse, but for all that Napoleon would receive Balashëv and the Grossvater. he entered, Prince Andrew, Speránski slowly turned his horse on the grass at the head of the Higher Command. their new, clean, and light study with the peoples of Central Europe to the idea. that moment, rested on the left, and gone into another yard across the table holding up the hill how you are. is always the same! Nicholas and his eyes he was looking at the feeble, round-shouldered figure of Makár Alexéevich, the brother is to love and of those of a man of genius, gave it, losing confidence in me! won’t take them!” he reflected. she looked at Natásha, unable to understand that there could and ran to her mother, refusing to believe and he led in the saddle and bowed his head on one hundred and thirty men who had settled in the distance. boy held on to the height of the gardens of Prince Vasíli’s opinion continued to deal. the other one too?” she asked herself, and rushing at him with wide-open eyes she was trying to fit in with that Frenchwoman and made me quarrel with you, believe me...” A shrewd, kindly, yet subtly derisive expression lit up by Toll were very complicated and clever, that it paid to her, kissed her hand, “that letter was brought in. stood sentinel within her had awakened. they led him to remain as you know, my dear, you order it or not? the right thing and say you went to her father. whole mass droned and jostled in confusion under the leather cushion and seeing things each from his fellow prisoners formed of men of different animals—from men to counteract it as a dense crowd of soldiers crowding and hurrying across the Sokólniki field, no longer be averted but was adored by everybody. door opened and read the then famous rescript of the gauze. does one good. himself seemed aware that in all around her. followed Prince Dolgorúkov with their bands playing, and by a mask of unconcern and ridicule of themselves, an honor they did rattle past! on, go on.” The third lay prone so that he would ask them again to the woman in a drawing room (and he himself has no pride for herself and her husband. in Moscow forty times forty churches—but yesterday a deserter was knouted to death but of Dokhtúrov scarcely a trace of coquetry, without any preparation for something witty. spy, slave of Buonaparte, spy, get out of his mind of a woman’s fox-lined cloak. they reached the frontier. is it? peasants were moving continuously in an envelope. Mary knew it. that circle they discountenanced those who had the same manner. how he said to be at peace, and only meaningless ruins remained, and this seemed grotesque and amazing to Natásha. he came upon her. was passing in his imagination. among the French stood close to the count left the room and there was an old maidservant saying, “Straight, straight, along the narrow, sodden, cutup forest road came the old Rostóvs. Dunyásha, Alpátych advanced to the next one. time the everyday interests in thought, could not do to take in its entirety and life. the middle of the human race, offering it in through the firing, and the first speaker. times she was unable to realize the strength of will which he had fallen the previous conversation. as the proverb says,” remarked Shinshín, moving his pipe down in his own heart from vice, and indulgently to smooth the thing in his large and beautiful as in the production of the service, heard with pleasure a piece of meat stuck on the flank, and the crowd surrounding the Lóbnoe Place, Pierre had become an integral part of that opinion,” and he who says that sleep is more important than anything,” whispered Princess Mary had made in sitting up, fluttered under the shirt sleeves, really did appear. day she returned home told them to the battery and, seeing that the campaign all Kutúzov’s efforts to control yourself,” she would have ready and to submit his will as it is. passed into yet another creature of the nearest house, intending to rest and leaped up. the outlying serfs’ quarters torches and candles were hurriedly drinking tea once more stopped the infantry. regarded all these drops moved and halted eight paces from Pierre had once been in vain. circumstances are sometimes too strong for us, and admitting the ultimate purpose is beyond death, none of the fallibility of his whole army resembled that of the labyrinth of lies! embraced Princess Mary sighed deeply on finishing this paragraph and looked up at the camp. other day if it were all dancing, and wishing to join up, and while still searching for something, and until she could demand this, and he looks at the inn kept by Ferapóntov, where he had heard the insane despairing screams growing fainter in the vehicle. meeting with Bonaparte, that they had nowhere to be ahead of the natural method was to carry away with an enormous load of wood. am I to tell you what law is!” the mob were saying that your life’s happiness depends on Your Majesty has considered yourself to be called. she sits sideways! the outlying serfs’ quarters torches and candles were hurriedly drinking tea and breakfasting, the soldiers, munching biscuit and beating her head up with harness bells; she hears him coming! action always occurs in wars that take on a journey and life was the more evident are the laws of a year longer,” the vicomte contemptuously, as if his patient did not play. rode off by the special attention of So-and-so, but she would go away immediately. l’Empereur!” came those ecstatic cries. has not yet know. a smallish dog seized my left hand, as if in search of the conception of the act and the bullets whistling, singing, and solemnly conducting the service. raised his hat, “that I can say.” There was a misfortune no one had taken place, did not notice that he has hurt himself to reply that there was a man as the horses galloped quickly, and simply as if afraid of anything,” said Sónya. not merely from the flushed and beaming with a rustle behind him not quite well; she’s in love with your dowry and take Pétya with her hands she burst into tears. it be me?” thought Rostóv. she listened to Pierre, and moved to Bald Hills.” “Prince,” said Berg, pointing to Pierre that day he was dishonorable and a stick or a party leader. the thirteenth of June he came within six paces and strayed off the pressure of natural forces; they anticipate war between their children and a saber—a present from his recollections of Germany, where “shelter” is called science can there be in me and above all he had stood in his spruce little trap passed out. captain made a sign of the dark, graceful girl who loved another. away yesterday at vespertime,” said Mávra Kuzmínichna. have everything in perfect order and silent when the old one, he expected to arrive at a word the meaning of life—not for him to look at him, she let Kurágin go to save himself from the commencement of the whole forthcoming battle from right to question him, and plunged into the darkness behind him, rode up to Pierre and proposed to a soldier when his aid is required and a subsequent dictatorship and Empire, or all the week the peasants and Dron the village on a sofa with her father. a while and glanced at Prince Andrew was on intimate terms with a cold chill ran down his back. his apparently delicate build Prince Andrew commanded was marching along the different companies getting mixed, and retreated as a general, and the French would take up our packs?” asked Nicholas. this transfer he felt too hot. was evident that he could not possibly be, and without fighting and menacing significance, the workmen came out of my soul!” he wrote. do not speak to you,” he added with a feeling of hatred and contempt of the trench, looking out of the brothers. mining of the words of his regimental commander?” Denísov sat down beside them. every word of insincere or feeble sympathy, seemed an insult, painfully irritated the count, having put on tight dancing shoes did their master. now seemed quite natural that they have certain negative qualities, avoid doing certain things, and speak to her that if he robs his fellows and the slanting rays of the road, many returned of their guilt as quickly as possible!” said he, when Princess Mary for the address. off to the unknown x itself the best place by the time as an orderly officer, the soldiers, who could give her. still at a tuft of grass. fifteen thousand men under fire, without considering in how far he was equally amiable to the village. says it’s very interesting.” “Very interesting.” The countess in a clock, so in this same idea. were some Russian infantry, neither moving forward to another to try to save our lines to their gallery, addressing the visitor time to be packed, she found hardest to bear the sight of them were grooms leading the Tsar’s wish, to select him—an old man suddenly, taking a glass from the Articles of War was at Braunau.” “Buonaparte himself!... this to realize it his duty as a traitor, and the way was made to fight and smother it, and pressed to hers, and many faces he met. ran to her mind that, strange as it was, and that terrible malady it had all he said was very fond of speaking Pierre at hand glittered golden cornfields interspersed with copses. was explained to Rostóv from amid the general position of our peoples for such and such papers to be occupied with most trivial matters as if all this as she is, or else what is happening between them,” thought Nicholas, glancing into the conservatory, neither seeing nor hearing anything, when suddenly the well-known Prince Bolkónski frowned. favorite occupation when not on them, and they go and tell him so.” “Mamma, are you traveling from?” The stranger’s face was flushed and happy, and passing on to Moscow on leave and is received with pleasure or affection for Kurágin—were sitting at a fiancée who was killed and maimed (by his will as something great and mysterious was being held. then the young men. that bright evening light and gay summer clothes of the dull gray weather now rainy and now all was silent for a long series of reminiscences arose from those other retired gentlemen-in-waiting he had said that he wanted a drink; but he only excited himself more comfortably and coughed, evidently preparing to make fun of it!” said Rostóv, with a long time, as always happens, the sound of the balance of power, or Napoleon could deprive him of dancing, and so it belonged to her room after supper? the same thing. is one of Bezúkhov’s household, despite all the men from me,” said Pierre. had grown still stouter!” remarked the major-domo. me?... Trying for me!...” said she. were conscious of something black—probably men—and at times seemed to her room dry-eyed, taking no notice of the yard of a retired gentleman-in-waiting, fond of eating and talking to himself. enormous Drissa camp lies in my heart. convince myself of your way! he did wrong at this moment. our position on the top of another: her rags to buy, and he tells me all the children, was always liable to do so is not Bonaparte but Buxhöwden. in nothing in marriage but the shouting of Balagá and of Prince Andrew’s study. snored. “Ozheg-zheg, Ozheg-zheg...” hissed the saber against the door opened, and Anatole entered, had remained in every word about the regiment, and how they had made and that he and Borís looked on sideways, pursing up his eyes said: “This is what the Russians were lost in thought, science, poetry, music, love, friendship, hatred, and passions—went on as a cripple, a burden or a duke—it seemed that day as he has such luck?... only did she resist her seducer when she was not merely disappeared temporarily—he felt that either Napoleon or Murat was informed of it as he said to herself, and began to talk to me,” said Princess Mary. one side four and on the second of September, the road before them naked; smoked, picked out their linen,” said one of the curtain. seized his soul. is returning to the wet nurse and the two Emperors were to come to life. doesn’t understand, so I told him about Natásha. shrugged his shoulders to the wars; God knows how to write to. pursuit of the futility of being too weak to get up, Tíkhon came to himself either to accept this terrible affair decided? were heard, and some cheese,” said Prince Andrew, Speránski slowly turned his face was before him. Mary had turned her face now. his face at such moments. have quite turned his horse to a custom of Catherine’s day, Count Bezúkhov, and will curse again a month had recently joined the active army. this silence inconvenient, let him go. soldiers lifted the cloak with which Natásha had said it he did it happen and what is demanded of her. now, I should have appeared to address the reply! at once without any conspiracy and without replying took out his pocketbook. this the most part quite insignificant trifles, but did not know what he had more than half his words, did not leave his face. was now, however, impossible to distinguish himself. is now to be allowed to pass because of the 13th Light Regiment—was undoubtedly a very bad humor, she had received, through a field glass down the hill fires flared up again, despite the fact that her fate would be renewed, but Princess Mary it was not Bonaparte’s servant, was really, simply, and gradually—just as he himself prefers, regards those as leaders who, owing to the Patriarch’s Ponds Pierre found a form of punishment suddenly changed. felt in her name to come in search of these circumstances has an influence on me and on his success in war when entrenched under the wall fell, and which he unconsciously broke the seal of her father’s funeral Princess Mary with a badly painted portrait (evidently by the offended parties, was that, after seizing the officer of the diplomatic dispatch, which he is one that would reveal to me that animal happiness is implanted in our house, aren’t they?” “Yes, sir, and so do you think of everything. who entered Moscow, finding it difficult for events that led to the ambassador’s,” said Prince Andrew. if you would like to pay again for the first time by the fact that the latter with an assiduous and modest mien, and stooping over the field. Mary listened till he was enraptured by her. little was his commanding officer, to hand the squadron commander, awaiting the deputation. hearing of the Apocalypse, it is not one of the impetus given by the Minister of War with peculiarly deliberate steps. the soldiers as if not understanding, fixed his large study. crows, scenting blood, flew among the people of weak character, he desired so passionately once more thought of how badly the Note was worded,” remarked Count Rostopchín suddenly grew pale as anything. was wearing a Kazán dressing gown looked out. the Polish Mademoiselle Borzozowska) would take place because the historians who regard all historical persons, and therefore one should be kept with him for refusing the command of the associations nearest my heart. face looked out of the familiar crowd around his head, looked now at the frightened and happy eyes at this station, but compared to the end, probably to strengthen it. have you for a moment, I’ll get rid of the warm rays of the Russian service—could do nothing to be so,” said Prince Andrew, ran into the city. of crying and were building shelters with merry shouts and loud voice. dismounted, took Balashëv’s arm, and went away. is the battle of Tarútino frightened the beast, 666; that his proximity she experienced a sense of intimacy with his foot, and from there these connections with the aid of his men. bigwigs, the most opportune moment for making use of it.... merely in these things the old prince remembered his difficulty in expressing himself in moments of almost the status of a figure he beckoned to the Three Hills to fight another battle, and he issued the order to give her the means; I will act as your honor should be done now!” he replied to this polyglot talk and the drummer boy, to whom he had finished, he turned to the campfire. appearance he was weary had gone, and your future depends on the balk onto the raised space before the Emperor. midnight Bolkhovítinov, having received the news of Mack’s defeat, the glory of that question. that were gazing eagerly at the effort necessary to divest himself of their investigation. long, thin, half-severed neck and shoulders and flourished his castanets as if she had stopped and was squeezed so hard that way, that’s not the point, my dear.” “It’s that protégé of yours, that sweet Princess Drubetskáya, that Anna Pávlovna disapproved. can understand it, because you’ve never loved anyone. was evident that any answer would lead her aside, drawing her to be fulfilling a regrettable formality, but they too, according to the beautiful young princess who was blocking his way. is wartime. old prince remembered his benefactor on all these prisoners (he, probably, among them) were to stand aside. looked at her and she tried to walk, devil take them—the traitors!” “Zum Henker diese Russen!” * muttered the princess used to be free. instrument—now resembling a battery, but it is always the case, insisted that as there are still nobodies, while I on the inexperienced young man, whom we find that you stayed in an effort to pull on his bare feet, stood in serried ranks behind the door rows of stretchers went past, when some troops retreated, and when everything was lit up by Weyrother for the mistake, but because she had been robbed and with them beside him. Mary when his father had told him that nothing definite could be had in reality been thinking about her, while taking off his right Mítka staring at a right to ask you. army is the trial intended? God help'"
      ]
     },
     "execution_count": 61,
     "metadata": {},
     "output_type": "execute_result"
    }
   ],
   "source": [
    "def starting_state():\n",
    "    \"\"\"\n",
    "    Start with a random permutation.\n",
    "    \"\"\"\n",
    "    index = np.random.randint(0,high=len(beginning_words)-1)\n",
    "    return beginning_words[index]\n",
    "\n",
    "\n",
    "def simulate_MC(num_iters=5000):\n",
    "    curr_state = starting_state()\n",
    "    samples = [curr_state[0], curr_state[1]]\n",
    "    for _ in range(num_iters):\n",
    "        prob = np.random.rand()\n",
    "        prob_dict = word_transitions[curr_state]\n",
    "        accum = 0.0\n",
    "        for key, value in prob_dict.items():\n",
    "            accum += value\n",
    "            if prob <= accum:\n",
    "                curr_state = (curr_state[1],key)\n",
    "                break\n",
    "        if accum == 0:\n",
    "            samples[len(samples) - 1] += '.'\n",
    "            curr_state = starting_state()\n",
    "            samples.append(curr_state[1])\n",
    "        else:\n",
    "            samples.append(curr_state[1])\n",
    "        if curr_state[1][-1] in [\".\", \"?\", \"!\"] or curr_state[1][-2:] in ['.\"', '!\"', '?\"'] and np.random.rand() > .5:\n",
    "            curr_state = starting_state()\n",
    "            samples.append(curr_state[1])\n",
    "    return samples\n",
    "\n",
    "x = simulate_MC()\n",
    "\" \".join(x)"
   ]
  },
  {
   "cell_type": "code",
   "execution_count": 44,
   "metadata": {},
   "outputs": [
    {
     "data": {
      "text/plain": [
       "562489"
      ]
     },
     "execution_count": 44,
     "metadata": {},
     "output_type": "execute_result"
    }
   ],
   "source": [
    "len(arr_of_words)"
   ]
  },
  {
   "cell_type": "code",
   "execution_count": 46,
   "metadata": {},
   "outputs": [
    {
     "data": {
      "text/plain": [
       "509068"
      ]
     },
     "execution_count": 46,
     "metadata": {},
     "output_type": "execute_result"
    }
   ],
   "source": [
    "len(word_transitions.keys())*2"
   ]
  },
  {
   "cell_type": "code",
   "execution_count": 54,
   "metadata": {},
   "outputs": [
    {
     "data": {
      "text/plain": [
       "11777"
      ]
     },
     "execution_count": 54,
     "metadata": {},
     "output_type": "execute_result"
    }
   ],
   "source": [
    "len(beginning_words)"
   ]
  },
  {
   "cell_type": "code",
   "execution_count": 55,
   "metadata": {},
   "outputs": [
    {
     "data": {
      "text/plain": [
       "True"
      ]
     },
     "execution_count": 55,
     "metadata": {},
     "output_type": "execute_result"
    }
   ],
   "source": [
    "\"Pelt\" in arr_of_words"
   ]
  },
  {
   "cell_type": "code",
   "execution_count": 57,
   "metadata": {},
   "outputs": [
    {
     "data": {
      "text/plain": [
       "490335"
      ]
     },
     "execution_count": 57,
     "metadata": {},
     "output_type": "execute_result"
    }
   ],
   "source": [
    "arr_of_words.index(\"Pelt\")"
   ]
  },
  {
   "cell_type": "code",
   "execution_count": 58,
   "metadata": {},
   "outputs": [
    {
     "data": {
      "text/plain": [
       "'harder!”'"
      ]
     },
     "execution_count": 58,
     "metadata": {},
     "output_type": "execute_result"
    }
   ],
   "source": [
    "arr_of_words[490336]"
   ]
  },
  {
   "cell_type": "code",
   "execution_count": null,
   "metadata": {
    "collapsed": true
   },
   "outputs": [],
   "source": []
  }
 ],
 "metadata": {
  "kernelspec": {
   "display_name": "Python [Root]",
   "language": "python",
   "name": "Python [Root]"
  },
  "language_info": {
   "codemirror_mode": {
    "name": "ipython",
    "version": 3
   },
   "file_extension": ".py",
   "mimetype": "text/x-python",
   "name": "python",
   "nbconvert_exporter": "python",
   "pygments_lexer": "ipython3",
   "version": "3.5.4"
  }
 },
 "nbformat": 4,
 "nbformat_minor": 2
}
